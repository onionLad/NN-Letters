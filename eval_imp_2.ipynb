{
 "cells": [
  {
   "cell_type": "markdown",
   "metadata": {},
   "source": [
    "# Evaluate Implementation 2\n",
    "Bill Xia<br>\n",
    "5/11/24\n",
    "\n",
    "A space to evaluate the performance of `implementation_2.py`."
   ]
  },
  {
   "cell_type": "code",
   "execution_count": 1,
   "metadata": {},
   "outputs": [],
   "source": [
    "# Imports\n",
    "import pandas as pd\n",
    "from implementation_2 import FlowersClassifier\n",
    "\n",
    "# Globals\n",
    "RNG = 69"
   ]
  },
  {
   "cell_type": "code",
   "execution_count": 2,
   "metadata": {},
   "outputs": [],
   "source": [
    "# Data\n",
    "data = pd.read_csv('data/flowers.csv', header=None)\n",
    "data = data.sample(frac=1, random_state=RNG)\n",
    "\n",
    "split_idx = int((0.8 * len(data)))\n",
    "data_tr   = data[:split_idx]\n",
    "data_te   = data[split_idx:]\n",
    "\n",
    "x_train = data_tr[[0, 1, 2, 3]].values\n",
    "y_train = data_tr[4].values\n",
    "x_test  = data_te[[0, 1, 2, 3]].values\n",
    "y_test  = data_te[4].values"
   ]
  },
  {
   "cell_type": "code",
   "execution_count": 3,
   "metadata": {},
   "outputs": [],
   "source": [
    "# Initialize\n",
    "classifier = FlowersClassifier(alpha=0.05, randomState=RNG)"
   ]
  },
  {
   "cell_type": "code",
   "execution_count": 4,
   "metadata": {},
   "outputs": [
    {
     "name": "stdout",
     "output_type": "stream",
     "text": [
      "Iteration: 0/1000\n",
      "Train Acc: 0.3\n",
      "Iteration: 100/1000\n",
      "Train Acc: 0.8333333333333334\n",
      "Iteration: 200/1000\n",
      "Train Acc: 0.8916666666666667\n",
      "Iteration: 300/1000\n",
      "Train Acc: 0.9166666666666666\n",
      "Iteration: 400/1000\n",
      "Train Acc: 0.95\n",
      "Iteration: 500/1000\n",
      "Train Acc: 0.9666666666666667\n",
      "Iteration: 600/1000\n",
      "Train Acc: 0.9666666666666667\n",
      "Iteration: 700/1000\n",
      "Train Acc: 0.9666666666666667\n",
      "Iteration: 800/1000\n",
      "Train Acc: 0.9666666666666667\n",
      "Iteration: 900/1000\n",
      "Train Acc: 0.9666666666666667\n",
      "Iteration: 999/1000\n",
      "Train Acc: 0.9666666666666667\n"
     ]
    }
   ],
   "source": [
    "# Fit\n",
    "classifier.fit(x_train, y_train, iters=1000)"
   ]
  },
  {
   "cell_type": "code",
   "execution_count": 5,
   "metadata": {},
   "outputs": [
    {
     "name": "stdout",
     "output_type": "stream",
     "text": [
      "Test Accuracy: 96.67%\n"
     ]
    }
   ],
   "source": [
    "# Evaluation\n",
    "print(f'Test Accuracy: {round(classifier.accuracy(x_test, y_test) * 100, 2)}%')"
   ]
  }
 ],
 "metadata": {
  "kernelspec": {
   "display_name": "Python 3",
   "language": "python",
   "name": "python3"
  },
  "language_info": {
   "codemirror_mode": {
    "name": "ipython",
    "version": 3
   },
   "file_extension": ".py",
   "mimetype": "text/x-python",
   "name": "python",
   "nbconvert_exporter": "python",
   "pygments_lexer": "ipython3",
   "version": "3.12.2"
  }
 },
 "nbformat": 4,
 "nbformat_minor": 2
}
